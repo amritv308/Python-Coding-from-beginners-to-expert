{
  "nbformat": 4,
  "nbformat_minor": 0,
  "metadata": {
    "colab": {
      "name": "Python_Crash_Course.ipynb",
      "provenance": [],
      "authorship_tag": "ABX9TyNGH8RA2qZKrIjy8Cp+z0rF",
      "include_colab_link": true
    },
    "kernelspec": {
      "name": "python3",
      "display_name": "Python 3"
    }
  },
  "cells": [
    {
      "cell_type": "markdown",
      "metadata": {
        "id": "view-in-github",
        "colab_type": "text"
      },
      "source": [
        "<a href=\"https://colab.research.google.com/github/amritv308/Python-Coding-from-beginners-to-expert/blob/master/Python_Crash_Course.ipynb\" target=\"_parent\"><img src=\"https://colab.research.google.com/assets/colab-badge.svg\" alt=\"Open In Colab\"/></a>"
      ]
    },
    {
      "cell_type": "markdown",
      "metadata": {
        "id": "RTDglO1rzrt5"
      },
      "source": [
        "# **Basic Operations**"
      ]
    },
    {
      "cell_type": "code",
      "metadata": {
        "id": "9gvLtPEgarYa",
        "outputId": "d5cf6e85-7ef8-4bba-ed41-d68cc59d8a96",
        "colab": {
          "base_uri": "https://localhost:8080/",
          "height": 109
        }
      },
      "source": [
        "#scipy\n",
        "import scipy\n",
        "print('scipy:{}'.format(scipy.__version__))\n",
        "\n",
        "#numpy\n",
        "import numpy\n",
        "print('numpy:{}'.format(numpy.__version__))\n",
        "\n",
        "#matplotlib\n",
        "import matplotlib\n",
        "print('matplotlib:{}'.format(matplotlib.__version__))\n",
        "\n",
        "#pandas\n",
        "import pandas\n",
        "print('pandas:{}'.format(pandas.__version__))\n",
        "\n",
        "#scikit learn\n",
        "import sklearn\n",
        "print('sklearn:{}'.format(sklearn.__version__))"
      ],
      "execution_count": null,
      "outputs": [
        {
          "output_type": "stream",
          "text": [
            "scipy:1.4.1\n",
            "numpy:1.18.5\n",
            "matplotlib:3.2.2\n",
            "pandas:1.1.2\n",
            "sklearn:0.22.2.post1\n"
          ],
          "name": "stdout"
        }
      ]
    },
    {
      "cell_type": "code",
      "metadata": {
        "id": "V9g1ByseMsZj",
        "outputId": "3fde46de-b8c0-4101-c25d-f314451e212a",
        "colab": {
          "base_uri": "https://localhost:8080/",
          "height": 72
        }
      },
      "source": [
        "#Strings\n",
        "data = 'hello world'\n",
        "print(data[0])\n",
        "print(len(data))\n",
        "print(data)"
      ],
      "execution_count": null,
      "outputs": [
        {
          "output_type": "stream",
          "text": [
            "h\n",
            "11\n",
            "hello world\n"
          ],
          "name": "stdout"
        }
      ]
    },
    {
      "cell_type": "code",
      "metadata": {
        "id": "VWcJmrjmlb5o",
        "outputId": "51dfc85d-605a-4a9e-ce5c-355227724d4b",
        "colab": {
          "base_uri": "https://localhost:8080/",
          "height": 54
        }
      },
      "source": [
        "#Numbers\n",
        "value = 123.1\n",
        "print(value)\n",
        "value = 10\n",
        "print(value)"
      ],
      "execution_count": null,
      "outputs": [
        {
          "output_type": "stream",
          "text": [
            "123.1\n",
            "10\n"
          ],
          "name": "stdout"
        }
      ]
    },
    {
      "cell_type": "code",
      "metadata": {
        "id": "bwuFa7qSluE1",
        "outputId": "3cc1f818-7872-4e3e-c5cb-930ce882dfa5",
        "colab": {
          "base_uri": "https://localhost:8080/",
          "height": 35
        }
      },
      "source": [
        "#Boolean\n",
        "a = True\n",
        "b = False\n",
        "print(a,b)"
      ],
      "execution_count": null,
      "outputs": [
        {
          "output_type": "stream",
          "text": [
            "True False\n"
          ],
          "name": "stdout"
        }
      ]
    },
    {
      "cell_type": "code",
      "metadata": {
        "id": "9TNWAPW1l7Uv",
        "outputId": "e8a9f06e-a9ce-4606-8d83-9f9432f3b62e",
        "colab": {
          "base_uri": "https://localhost:8080/",
          "height": 35
        }
      },
      "source": [
        "#Multiple Assignment\n",
        "a, b, c = 1, 2, 3\n",
        "print(a, b, c)"
      ],
      "execution_count": null,
      "outputs": [
        {
          "output_type": "stream",
          "text": [
            "1 2 3\n"
          ],
          "name": "stdout"
        }
      ]
    },
    {
      "cell_type": "code",
      "metadata": {
        "id": "v2EvVoUHmbpn",
        "outputId": "a14c58bb-643c-42a4-cd24-1eca7b0b2072",
        "colab": {
          "base_uri": "https://localhost:8080/",
          "height": 35
        }
      },
      "source": [
        "#No Value\n",
        "a = None\n",
        "print(a)"
      ],
      "execution_count": null,
      "outputs": [
        {
          "output_type": "stream",
          "text": [
            "None\n"
          ],
          "name": "stdout"
        }
      ]
    },
    {
      "cell_type": "code",
      "metadata": {
        "id": "-7bAnTYkmwiB",
        "outputId": "30a3ba4b-4c50-4674-ed3d-bd75353603ed",
        "colab": {
          "base_uri": "https://localhost:8080/",
          "height": 35
        }
      },
      "source": [
        "#Flow Control:: If-Then-Else condtion\n",
        "value = 99\n",
        "if value == 99:\n",
        "  print('That is Fast')\n",
        "elif value > 200:\n",
        "  print('That is too Fast')\n",
        "else:\n",
        "  print('That is Safe')"
      ],
      "execution_count": null,
      "outputs": [
        {
          "output_type": "stream",
          "text": [
            "That is Fast\n"
          ],
          "name": "stdout"
        }
      ]
    },
    {
      "cell_type": "code",
      "metadata": {
        "id": "ejf6MBqwnpP2",
        "outputId": "693187b4-6486-402b-9246-8f19eaa3ac09",
        "colab": {
          "base_uri": "https://localhost:8080/",
          "height": 201
        }
      },
      "source": [
        "#For-Loop\n",
        "for i in range(10):\n",
        "  print(i)"
      ],
      "execution_count": null,
      "outputs": [
        {
          "output_type": "stream",
          "text": [
            "0\n",
            "1\n",
            "2\n",
            "3\n",
            "4\n",
            "5\n",
            "6\n",
            "7\n",
            "8\n",
            "9\n"
          ],
          "name": "stdout"
        }
      ]
    },
    {
      "cell_type": "code",
      "metadata": {
        "id": "dSf8Zp7zoV_V",
        "outputId": "d3ccdd73-ece1-4ef3-c5ad-33a23c0b62f0",
        "colab": {
          "base_uri": "https://localhost:8080/",
          "height": 201
        }
      },
      "source": [
        "#While-Loop\n",
        "i = 0\n",
        "while i < 10:\n",
        "  print(i)\n",
        "  i += 1"
      ],
      "execution_count": null,
      "outputs": [
        {
          "output_type": "stream",
          "text": [
            "0\n",
            "1\n",
            "2\n",
            "3\n",
            "4\n",
            "5\n",
            "6\n",
            "7\n",
            "8\n",
            "9\n"
          ],
          "name": "stdout"
        }
      ]
    },
    {
      "cell_type": "code",
      "metadata": {
        "id": "8Eldev5lOnqT",
        "outputId": "0da88bba-e395-4296-b08d-2323c37ff05b",
        "colab": {
          "base_uri": "https://localhost:8080/",
          "height": 35
        }
      },
      "source": [
        "#Tuple\n",
        "a = (1, 2, 3)\n",
        "print(a)"
      ],
      "execution_count": null,
      "outputs": [
        {
          "output_type": "stream",
          "text": [
            "(1, 2, 3)\n"
          ],
          "name": "stdout"
        }
      ]
    },
    {
      "cell_type": "code",
      "metadata": {
        "id": "jYwBJLA1iztF",
        "outputId": "14e06a61-2a9b-4320-9c97-8aa3a7a7914a",
        "colab": {
          "base_uri": "https://localhost:8080/",
          "height": 127
        }
      },
      "source": [
        "#List\n",
        "mylist = [1, 2, 3]\n",
        "print('Zeroth Value: ', mylist[0])\n",
        "mylist.append(4)\n",
        "print('List length: ',len(mylist))\n",
        "for value in mylist:\n",
        "  print(value)"
      ],
      "execution_count": null,
      "outputs": [
        {
          "output_type": "stream",
          "text": [
            "Zeroth Value:  1\n",
            "List length:  4\n",
            "1\n",
            "2\n",
            "3\n",
            "4\n"
          ],
          "name": "stdout"
        }
      ]
    },
    {
      "cell_type": "code",
      "metadata": {
        "id": "GpjteTk6ugn0",
        "outputId": "f8799ab3-f797-4b33-eb09-f7c706119033",
        "colab": {
          "base_uri": "https://localhost:8080/",
          "height": 164
        }
      },
      "source": [
        "#Dictionary\n",
        "mydict = {'a':1, 'b':2, 'c':3}\n",
        "print('A Value:', mydict['a'])\n",
        "print('Values:',mydict.values())\n",
        "mydict['a'] = 11\n",
        "print('A Value:',mydict['a'])\n",
        "print('Keys:',mydict.keys())\n",
        "print('Values:',mydict.values())\n",
        "for key in mydict.keys():\n",
        "  print(mydict[key])"
      ],
      "execution_count": null,
      "outputs": [
        {
          "output_type": "stream",
          "text": [
            "A Value: 1\n",
            "Values: dict_values([1, 2, 3])\n",
            "A Value: 11\n",
            "Keys: dict_keys(['a', 'b', 'c'])\n",
            "Values: dict_values([11, 2, 3])\n",
            "11\n",
            "2\n",
            "3\n"
          ],
          "name": "stdout"
        }
      ]
    },
    {
      "cell_type": "code",
      "metadata": {
        "id": "TdNIKjv-ydRD",
        "outputId": "8a201277-a396-42dd-c1a0-b3dc173cc366",
        "colab": {
          "base_uri": "https://localhost:8080/",
          "height": 35
        }
      },
      "source": [
        "#Functions\n",
        "def mysum(x, y):\n",
        "  return x+y\n",
        "\n",
        "#test mysum() function\n",
        "result = mysum(1,3)\n",
        "print(result)"
      ],
      "execution_count": null,
      "outputs": [
        {
          "output_type": "stream",
          "text": [
            "4\n"
          ],
          "name": "stdout"
        }
      ]
    },
    {
      "cell_type": "markdown",
      "metadata": {
        "id": "_7vBn-iYzd7U"
      },
      "source": [
        "# **NumPy Crash Course**"
      ]
    },
    {
      "cell_type": "code",
      "metadata": {
        "id": "xhLHrcMpzzbv",
        "outputId": "d87eb915-1b3c-475e-9e8e-01e046a5b45a",
        "colab": {
          "base_uri": "https://localhost:8080/",
          "height": 54
        }
      },
      "source": [
        "##########Create an array#############\n",
        "import numpy as np\n",
        "mylist = [1, 2, 3]\n",
        "myarray = np.array(mylist)\n",
        "print(myarray)\n",
        "print(myarray.shape)"
      ],
      "execution_count": null,
      "outputs": [
        {
          "output_type": "stream",
          "text": [
            "[1 2 3]\n",
            "(3,)\n"
          ],
          "name": "stdout"
        }
      ]
    },
    {
      "cell_type": "code",
      "metadata": {
        "id": "ryjVYkuU3hFd",
        "outputId": "db052f43-f5bb-4c12-aeb3-5d38aab41df0",
        "colab": {
          "base_uri": "https://localhost:8080/",
          "height": 146
        }
      },
      "source": [
        "#############Access Data###############\n",
        "import numpy as np\n",
        "mylist = [[1,2,3], [3,4,5]]\n",
        "myarray = np.array(mylist)\n",
        "print(myarray)\n",
        "print(myarray.shape)\n",
        "print('First row : ',myarray[0])\n",
        "print('Last row : ', myarray[-1])\n",
        "print('Specific row and column : ', myarray[0,2])\n",
        "print('Whole column: ', myarray[:, 2])"
      ],
      "execution_count": 8,
      "outputs": [
        {
          "output_type": "stream",
          "text": [
            "[[1 2 3]\n",
            " [3 4 5]]\n",
            "(2, 3)\n",
            "First row :  [1 2 3]\n",
            "Last row :  [3 4 5]\n",
            "Specific row and column :  3\n",
            "Whole column:  [3 5]\n"
          ],
          "name": "stdout"
        }
      ]
    },
    {
      "cell_type": "code",
      "metadata": {
        "id": "EtGdGniKRDyB",
        "outputId": "7fbea45b-27eb-466e-9c9b-295361bf5916",
        "colab": {
          "base_uri": "https://localhost:8080/",
          "height": 54
        }
      },
      "source": [
        "###########Numpy Arithmetic operation #########################\n",
        "import numpy as np\n",
        "myarray1 = np.array([2, 2, 2])\n",
        "myarray2 = np.array([3, 3, 3])\n",
        "print('Addition : ', myarray1+myarray2)\n",
        "print('Multiplication : ', myarray1*myarray2)"
      ],
      "execution_count": 9,
      "outputs": [
        {
          "output_type": "stream",
          "text": [
            "Addition :  [5 5 5]\n",
            "Multiplication :  [6 6 6]\n"
          ],
          "name": "stdout"
        }
      ]
    },
    {
      "cell_type": "markdown",
      "metadata": {
        "id": "M9rE2-NCTFG9"
      },
      "source": [
        "# **Matplotlib Crash Course**"
      ]
    },
    {
      "cell_type": "code",
      "metadata": {
        "id": "VtqvY-fcTS0D",
        "outputId": "a42f1626-ce89-4957-a2d4-16eac5e52e9e",
        "colab": {
          "base_uri": "https://localhost:8080/",
          "height": 279
        }
      },
      "source": [
        "#########Line Plot############\n",
        "import matplotlib.pyplot as plt\n",
        "import numpy as np\n",
        "myarray = np.array([1, 2, 3])\n",
        "plt.plot(myarray)\n",
        "plt.xlabel('some x axis')\n",
        "plt.ylabel('some y axis')\n",
        "plt.show()"
      ],
      "execution_count": 10,
      "outputs": [
        {
          "output_type": "display_data",
          "data": {
            "image/png": "[encoded data removed]",
            "text/plain": [
              "<Figure size 432x288 with 1 Axes>"
            ]
          },
          "metadata": {
            "tags": [],
            "needs_background": "light"
          }
        }
      ]
    },
    {
      "cell_type": "code",
      "metadata": {
        "id": "9FnWx5UaWu0p",
        "outputId": "79ae2341-53fe-4a70-881b-2c57cb966502",
        "colab": {
          "base_uri": "https://localhost:8080/",
          "height": 279
        }
      },
      "source": [
        "##################Scatter Plot##################\n",
        "import matplotlib.pyplot as plt\n",
        "import numpy as np\n",
        "x = np.array([1, 2, 3])\n",
        "y = np.array([2, 4, 6])\n",
        "plt.scatter(x, y)\n",
        "plt.xlabel('X--AXIS')\n",
        "plt.ylabel('Y--AXIS')\n",
        "plt.show()"
      ],
      "execution_count": 13,
      "outputs": [
        {
          "output_type": "display_data",
          "data": {
            "image/png": "[encoded data removed]",
            "text/plain": [
              "<Figure size 432x288 with 1 Axes>"
            ]
          },
          "metadata": {
            "tags": [],
            "needs_background": "light"
          }
        }
      ]
    },
    {
      "cell_type": "markdown",
      "metadata": {
        "id": "0JBsicJiY5fJ"
      },
      "source": [
        "# **Pandas Crash Course**"
      ]
    },
    {
      "cell_type": "code",
      "metadata": {
        "id": "x7CqYCyVY_4R",
        "outputId": "9be9fc4d-dcbd-48ef-de4d-0f91556ba957",
        "colab": {
          "base_uri": "https://localhost:8080/",
          "height": 127
        }
      },
      "source": [
        "############ series ##################\n",
        "import numpy as np\n",
        "import pandas as pd\n",
        "myarray = np.array([1, 2, 3])\n",
        "rownames = ['a', 'b', 'c']\n",
        "myseries = pd.Series(myarray, index=rownames)\n",
        "print(myseries)\n",
        "print(myseries[0])\n",
        "print(myseries['a'])"
      ],
      "execution_count": 16,
      "outputs": [
        {
          "output_type": "stream",
          "text": [
            "a    1\n",
            "b    2\n",
            "c    3\n",
            "dtype: int64\n",
            "1\n",
            "1\n"
          ],
          "name": "stdout"
        }
      ]
    },
    {
      "cell_type": "code",
      "metadata": {
        "id": "syJCzoOTbr7G",
        "outputId": "75596185-5a79-4fe1-c6b8-c7abb6e5f407",
        "colab": {
          "base_uri": "https://localhost:8080/",
          "height": 182
        }
      },
      "source": [
        "##################DataFrame#######################\n",
        "import pandas as pd\n",
        "import numpy as np\n",
        "myarray = np.array([[1, 2, 3], [4, 5, 6]])\n",
        "rownames = ['a', 'b']\n",
        "colnames = ['one', 'two', 'three']\n",
        "mydataframe = pd.DataFrame(myarray, index=rownames, columns=colnames)\n",
        "print(mydataframe)\n",
        "print('method1 : ',mydataframe['one'])\n",
        "print('method2 : ',mydataframe.one)"
      ],
      "execution_count": 19,
      "outputs": [
        {
          "output_type": "stream",
          "text": [
            "   one  two  three\n",
            "a    1    2      3\n",
            "b    4    5      6\n",
            "method1 :  a    1\n",
            "b    4\n",
            "Name: one, dtype: int64\n",
            "method2 :  a    1\n",
            "b    4\n",
            "Name: one, dtype: int64\n"
          ],
          "name": "stdout"
        }
      ]
    }
  ]
}